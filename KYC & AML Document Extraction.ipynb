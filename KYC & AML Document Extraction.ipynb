{
 "cells": [
  {
   "cell_type": "code",
   "execution_count": 1,
   "id": "44bffa50",
   "metadata": {},
   "outputs": [],
   "source": [
    "#pip install pytesseract pdf2image openai pandas Pillow pdfplumber"
   ]
  },
  {
   "cell_type": "code",
   "execution_count": 2,
   "id": "19f7dbe3",
   "metadata": {},
   "outputs": [],
   "source": [
    "import pytesseract\n",
    "from pdf2image import convert_from_path\n",
    "from PIL import Image\n",
    "import openai\n",
    "import pdfplumber\n",
    "import re\n",
    "import pandas as pd"
   ]
  },
  {
   "cell_type": "code",
   "execution_count": 3,
   "id": "5a6571b2",
   "metadata": {},
   "outputs": [],
   "source": [
    "openai.api_key = \"abx\""
   ]
  },
  {
   "cell_type": "code",
   "execution_count": 4,
   "id": "76196488",
   "metadata": {},
   "outputs": [],
   "source": [
    "# Function to extract text from an image\n",
    "def extract_text_from_image(image_path):\n",
    "    image = Image.open(image_path)\n",
    "    text = pytesseract.image_to_string(image)\n",
    "    return text"
   ]
  },
  {
   "cell_type": "code",
   "execution_count": 5,
   "id": "5472bb81",
   "metadata": {},
   "outputs": [],
   "source": [
    "# Function to extract text from a PDF\n",
    "def extract_text_from_pdf(pdf_path):\n",
    "    text = \"\"\n",
    "    with pdfplumber.open(pdf_path) as pdf:\n",
    "        for page in pdf.pages:\n",
    "            text += page.extract_text() + \"\\n\"\n",
    "    return text"
   ]
  },
  {
   "cell_type": "code",
   "execution_count": 6,
   "id": "2fd01ba2",
   "metadata": {},
   "outputs": [],
   "source": [
    "# Function to extract key KYC details using regex\n",
    "def extract_kyc_details(text):\n",
    "    details = {\n",
    "        \"Name\": None,\n",
    "        \"Date of Birth\": None,\n",
    "        \"Address\": None,\n",
    "        \"Document Type\": None\n",
    "    }\n",
    "    # Extract Name (Assuming first uppercase word sequence)\n",
    "    name_match = re.search(r\"Name[:\\s]+([A-Z][a-z]+(?:\\s[A-Z][a-z]+)*)\", text)\n",
    "    if name_match:\n",
    "        details[\"Name\"] = name_match.group(1)\n",
    "\n",
    "    # Extract Date of Birth (DOB)\n",
    "    dob_match = re.search(r\"Date of Birth[:\\s]+(\\d{2}/\\d{2}/\\d{4}|\\d{2}-\\d{2}-\\d{4})\", text)\n",
    "    if dob_match:\n",
    "        details[\"Date of Birth\"] = dob_match.group(1)\n",
    "\n",
    "    # Extract Address (Basic heuristic)\n",
    "    address_match = re.search(r\"Address[:\\s]+([\\w\\s,]+)\", text)\n",
    "    if address_match:\n",
    "        details[\"Address\"] = address_match.group(1)\n",
    "\n",
    "    # Identify document type (e.g., Passport, Driver's License)\n",
    "    if \"passport\" in text.lower():\n",
    "        details[\"Document Type\"] = \"Passport\"\n",
    "    elif \"license\" in text.lower():\n",
    "        details[\"Document Type\"] = \"Driver's License\"\n",
    "    else:\n",
    "        details[\"Document Type\"] = \"Unknown\"\n",
    "\n",
    "    return details"
   ]
  },
  {
   "cell_type": "code",
   "execution_count": 7,
   "id": "8f90cb7e",
   "metadata": {},
   "outputs": [],
   "source": [
    "import time\n",
    "import openai\n",
    "\n",
    "def validate_kyc_details(kyc_data):\n",
    "    prompt = f\"\"\"\n",
    "    Validate the following KYC details:\n",
    "    - Name: {kyc_data['Name']}\n",
    "    - Date of Birth: {kyc_data['Date of Birth']}\n",
    "    - Address: {kyc_data['Address']}\n",
    "    - Document Type: {kyc_data['Document Type']}\n",
    "    \"\"\"\n",
    "\n",
    "    for attempt in range(3):  # Retry up to 3 times\n",
    "        try:\n",
    "            response = openai.chat.completions.create(\n",
    "                model=\"gpt-4\",\n",
    "                messages=[{\"role\": \"user\", \"content\": prompt}],\n",
    "                max_tokens=200\n",
    "            )\n",
    "            return response.choices[0].message.content\n",
    "\n",
    "        except openai.RateLimitError:\n",
    "            print(f\"Rate limit hit! Retrying in {5 * (attempt + 1)} seconds...\")\n",
    "            time.sleep(5 * (attempt + 1))  # Exponential backoff delay\n",
    "\n",
    "    return \"Error: OpenAI API rate limit exceeded. Try again later.\"\n"
   ]
  },
  {
   "cell_type": "code",
   "execution_count": 8,
   "id": "3d1c114c",
   "metadata": {},
   "outputs": [
    {
     "name": "stdout",
     "output_type": "stream",
     "text": [
      "\n",
      "Extracted Text:\n",
      " Scanned with CamScanner\n",
      "Scanned with CamScanner\n",
      "\n",
      "\n",
      "Extracted KYC Details: {'Name': None, 'Date of Birth': None, 'Address': None, 'Document Type': 'Unknown'}\n",
      "\n",
      "Validation & Risk Assessment:\n",
      " The KYC details provided are invalid. Name, Date of Birth, Address, and Document Type are all mandatory fields and should not be None or Unknown. Please provide valid information.\n"
     ]
    }
   ],
   "source": [
    "# Main function to process a KYC document\n",
    "def process_kyc_document(file_path):\n",
    "    if file_path.lower().endswith((\".png\", \".jpg\", \".jpeg\")):\n",
    "        text = extract_text_from_image(file_path)\n",
    "    elif file_path.lower().endswith(\".pdf\"):\n",
    "        text = extract_text_from_pdf(file_path)\n",
    "    else:\n",
    "        print(\"Unsupported file format!\")\n",
    "        return\n",
    "\n",
    "    print(\"\\nExtracted Text:\\n\", text)\n",
    "    \n",
    "    kyc_details = extract_kyc_details(text)\n",
    "    print(\"\\nExtracted KYC Details:\", kyc_details)\n",
    "\n",
    "    validation_result = validate_kyc_details(kyc_details)\n",
    "    print(\"\\nValidation & Risk Assessment:\\n\", validation_result)\n",
    "\n",
    "# Example usage\n",
    "if __name__ == \"__main__\":\n",
    "    file_path = \"/Users/rupeshshivsharan/Downloads/Yashvi Passport.pdf\"  # Replace with your actual file\n",
    "    process_kyc_document(file_path)"
   ]
  },
  {
   "cell_type": "code",
   "execution_count": null,
   "id": "f8bf606d",
   "metadata": {},
   "outputs": [],
   "source": []
  }
 ],
 "metadata": {
  "kernelspec": {
   "display_name": "Python 3 (ipykernel)",
   "language": "python",
   "name": "python3"
  },
  "language_info": {
   "codemirror_mode": {
    "name": "ipython",
    "version": 3
   },
   "file_extension": ".py",
   "mimetype": "text/x-python",
   "name": "python",
   "nbconvert_exporter": "python",
   "pygments_lexer": "ipython3",
   "version": "3.9.7"
  }
 },
 "nbformat": 4,
 "nbformat_minor": 5
}
